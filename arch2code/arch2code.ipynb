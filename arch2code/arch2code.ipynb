{
 "cells": [
  {
   "cell_type": "code",
   "execution_count": 1,
   "metadata": {},
   "outputs": [
    {
     "data": {
      "text/plain": [
       "True"
      ]
     },
     "execution_count": 1,
     "metadata": {},
     "output_type": "execute_result"
    }
   ],
   "source": [
    "import os\n",
    "import json\n",
    "import base64\n",
    "\n",
    "from openai import OpenAI\n",
    "from dotenv import load_dotenv\n",
    "from pydantic import BaseModel\n",
    "from prompts import *\n",
    "\n",
    "load_dotenv()"
   ]
  },
  {
   "cell_type": "code",
   "execution_count": 2,
   "metadata": {},
   "outputs": [],
   "source": [
    "client = OpenAI(\n",
    "    # base_url=\"https://api.together.xyz/v1\",\n",
    "    api_key=os.getenv(\"OPENAI_API_KEY\")\n",
    ")"
   ]
  },
  {
   "cell_type": "code",
   "execution_count": 3,
   "metadata": {},
   "outputs": [],
   "source": [
    "def encode_image(image_path: str) -> str:\n",
    "  with open(image_path, \"rb\") as image_file:\n",
    "    return base64.b64encode(image_file.read()).decode('utf-8')"
   ]
  },
  {
   "cell_type": "code",
   "execution_count": 4,
   "metadata": {},
   "outputs": [],
   "source": [
    "class Block(BaseModel):\n",
    "    block_name: str\n",
    "    description: str\n",
    "    components: list[str]\n",
    "    number_in_diagram: int | None\n",
    "    position_in_diagram: str\n",
    "\n",
    "class BlockWrapper(BaseModel):\n",
    "    blocks: list[Block]"
   ]
  },
  {
   "cell_type": "code",
   "execution_count": 5,
   "metadata": {},
   "outputs": [],
   "source": [
    "res = client.beta.chat.completions.parse(\n",
    "    model=\"gpt-4o\",\n",
    "    messages=[\n",
    "        {\"role\": \"system\", \"content\": block_system_prompt},\n",
    "        {\"role\": \"user\", \"content\": [\n",
    "            {\n",
    "                \"type\": \"image_url\",\n",
    "                \"image_url\": {\n",
    "                    \"url\": f\"data:image/jpeg;base64,{encode_image('../arch1.png')}\"\n",
    "                }\n",
    "            }\n",
    "        ]}\n",
    "    ],\n",
    "    response_format=BlockWrapper,\n",
    ")\n"
   ]
  },
  {
   "cell_type": "code",
   "execution_count": 6,
   "metadata": {},
   "outputs": [
    {
     "data": {
      "text/plain": [
       "[{'block_name': 'Amazon Location SDK',\n",
       "  'description': 'SDK integrated with web app for location services.',\n",
       "  'components': ['web app', 'Amazon Location SDK'],\n",
       "  'number_in_diagram': None,\n",
       "  'position_in_diagram': 'top-left'},\n",
       " {'block_name': 'AWS Amplify',\n",
       "  'description': 'Used to build and deploy web applications.',\n",
       "  'components': ['AWS Amplify'],\n",
       "  'number_in_diagram': 1,\n",
       "  'position_in_diagram': 'top-center'},\n",
       " {'block_name': 'AWS AppSync',\n",
       "  'description': 'Manages and synchronizes data between users via API.',\n",
       "  'components': ['AWS AppSync'],\n",
       "  'number_in_diagram': 2,\n",
       "  'position_in_diagram': 'center'},\n",
       " {'block_name': 'Amazon DynamoDB',\n",
       "  'description': 'Stores and retrieves application data.',\n",
       "  'components': ['Amazon DynamoDB'],\n",
       "  'number_in_diagram': 3,\n",
       "  'position_in_diagram': 'right-center'},\n",
       " {'block_name': 'Amazon Location Service',\n",
       "  'description': 'Provides map and tracking services.',\n",
       "  'components': ['Track', 'Map', 'Geofence', 'Amazon Location Service'],\n",
       "  'number_in_diagram': 4,\n",
       "  'position_in_diagram': 'bottom-center'},\n",
       " {'block_name': 'AWS Amplify Mobile',\n",
       "  'description': 'Used for mobile app development and deployment.',\n",
       "  'components': ['mobile app', 'AWS Amplify'],\n",
       "  'number_in_diagram': 5,\n",
       "  'position_in_diagram': 'middle-left'},\n",
       " {'block_name': 'Amazon EventBridge',\n",
       "  'description': 'Event bus to stream and monitor events.',\n",
       "  'components': ['Amazon EventBridge'],\n",
       "  'number_in_diagram': 6,\n",
       "  'position_in_diagram': 'bottom-right'},\n",
       " {'block_name': 'AWS Lambda',\n",
       "  'description': 'Processes data and triggers actions.',\n",
       "  'components': ['Lambda function'],\n",
       "  'number_in_diagram': 7,\n",
       "  'position_in_diagram': 'top-right'}]"
      ]
     },
     "execution_count": 6,
     "metadata": {},
     "output_type": "execute_result"
    }
   ],
   "source": [
    "json.loads(res.choices[0].message.content)[\"blocks\"]"
   ]
  },
  {
   "cell_type": "code",
   "execution_count": 7,
   "metadata": {},
   "outputs": [],
   "source": [
    "blocks = res.choices[0].message.parsed.blocks"
   ]
  },
  {
   "cell_type": "code",
   "execution_count": 8,
   "metadata": {},
   "outputs": [
    {
     "name": "stdout",
     "output_type": "stream",
     "text": [
      "{\n",
      "    \"block_name\": \"Amazon Location SDK\",\n",
      "    \"description\": \"SDK integrated with web app for location services.\",\n",
      "    \"components\": [\n",
      "        \"web app\",\n",
      "        \"Amazon Location SDK\"\n",
      "    ],\n",
      "    \"number_in_diagram\": null,\n",
      "    \"position_in_diagram\": \"top-left\"\n",
      "}\n"
     ]
    }
   ],
   "source": [
    "print(blocks[0].model_dump_json(indent=4))"
   ]
  },
  {
   "cell_type": "code",
   "execution_count": 9,
   "metadata": {},
   "outputs": [],
   "source": [
    "class ConnInfo(BaseModel):\n",
    "    block_name: str | None\n",
    "    component_name: str | None\n",
    "\n",
    "class Connection(BaseModel):\n",
    "    source: ConnInfo | None\n",
    "    target: ConnInfo | None\n",
    "    direction: str | None\n",
    "    description: str | None\n",
    "\n",
    "class ConnectionWrapper(BaseModel):\n",
    "    connections: list[Connection]"
   ]
  },
  {
   "cell_type": "code",
   "execution_count": 10,
   "metadata": {},
   "outputs": [
    {
     "name": "stdout",
     "output_type": "stream",
     "text": [
      "{\n",
      "    \"block_name\": \"Amazon Location SDK\",\n",
      "    \"description\": \"SDK integrated with web app for location services.\",\n",
      "    \"components\": [\n",
      "        \"web app\",\n",
      "        \"Amazon Location SDK\"\n",
      "    ],\n",
      "    \"number_in_diagram\": null,\n",
      "    \"position_in_diagram\": \"top-left\"\n",
      "}\n"
     ]
    }
   ],
   "source": [
    "print(blocks[0].model_dump_json(indent=4))\n"
   ]
  },
  {
   "cell_type": "code",
   "execution_count": 11,
   "metadata": {},
   "outputs": [],
   "source": [
    "blocks_str = \"\\n\".join(b.model_dump_json(indent=4) for b in blocks)"
   ]
  },
  {
   "cell_type": "code",
   "execution_count": 12,
   "metadata": {},
   "outputs": [],
   "source": [
    "conns = client.beta.chat.completions.parse(\n",
    "    model=\"gpt-4o\",\n",
    "    messages=[\n",
    "        {\"role\": \"system\", \"content\": connection_system_prompt.format(blocks_info=blocks_str)},\n",
    "        {\n",
    "            \"role\": \"user\", \"content\": [\n",
    "                {\n",
    "                    \"type\": \"image_url\",\n",
    "                    \"image_url\": {\n",
    "                        \"url\": f\"data:image/jpeg;base64,{encode_image('../arch1.png')}\"\n",
    "                    }\n",
    "                }\n",
    "            ]\n",
    "        }\n",
    "    ],\n",
    "    response_format=ConnectionWrapper,\n",
    ")"
   ]
  },
  {
   "cell_type": "code",
   "execution_count": 13,
   "metadata": {},
   "outputs": [
    {
     "name": "stdout",
     "output_type": "stream",
     "text": [
      "{\n",
      "    \"source\": {\n",
      "        \"block_name\": \"Amazon Location SDK\",\n",
      "        \"component_name\": \"web app\"\n",
      "    },\n",
      "    \"target\": {\n",
      "        \"block_name\": \"AWS Amplify\",\n",
      "        \"component_name\": \"AWS Amplify\"\n",
      "    },\n",
      "    \"direction\": \"one-way\",\n",
      "    \"description\": \"The web app uses AWS Amplify for deployment and management.\"\n",
      "}\n"
     ]
    }
   ],
   "source": [
    "print(conns.choices[0].message.parsed.connections[0].model_dump_json(indent=4))\n"
   ]
  },
  {
   "cell_type": "code",
   "execution_count": 14,
   "metadata": {},
   "outputs": [
    {
     "data": {
      "text/plain": [
       "[Connection(source=ConnInfo(block_name='Amazon Location SDK', component_name='web app'), target=ConnInfo(block_name='AWS Amplify', component_name='AWS Amplify'), direction='one-way', description='The web app uses AWS Amplify for deployment and management.'),\n",
       " Connection(source=ConnInfo(block_name='Amazon Location SDK', component_name='Amazon Location SDK'), target=ConnInfo(block_name='web app', component_name='web app'), direction='bidirectional', description='Integrates location services into the web app.'),\n",
       " Connection(source=ConnInfo(block_name='AWS Amplify', component_name='AWS Amplify'), target=ConnInfo(block_name='AWS AppSync', component_name='AWS AppSync'), direction='one-way', description='Amplify connects to AppSync for synchronizing data.'),\n",
       " Connection(source=ConnInfo(block_name='AWS AppSync', component_name='AWS AppSync'), target=ConnInfo(block_name='Amazon DynamoDB', component_name='Amazon DynamoDB'), direction='one-way', description='AppSync manages data stored in DynamoDB.'),\n",
       " Connection(source=ConnInfo(block_name='AWS AppSync', component_name='AWS AppSync'), target=ConnInfo(block_name='AWS Lambda', component_name='Lambda function'), direction='one-way', description='AppSync triggers Lambda functions for data processing.'),\n",
       " Connection(source=ConnInfo(block_name='AWS Amplify Mobile', component_name='mobile app'), target=ConnInfo(block_name='AWS Amplify', component_name='AWS Amplify'), direction='one-way', description='Mobile app uses Amplify for deployment.'),\n",
       " Connection(source=ConnInfo(block_name='AWS Amplify Mobile', component_name='Amazon Location SDK'), target=ConnInfo(block_name='mobile app', component_name='mobile app'), direction='bidirectional', description='Integrates location services into the mobile app.'),\n",
       " Connection(source=ConnInfo(block_name='Amazon Location Service', component_name='Track'), target=ConnInfo(block_name='Amazon Location Service', component_name='Geofence'), direction='one-way', description='Tracking data interacts with geofencing rules.'),\n",
       " Connection(source=ConnInfo(block_name='Amazon Location Service', component_name='Geofence'), target=ConnInfo(block_name='Amazon EventBridge', component_name='Amazon EventBridge'), direction='one-way', description='Geofence events are sent to EventBridge.'),\n",
       " Connection(source=ConnInfo(block_name='Amazon Location Service', component_name='Map'), target=ConnInfo(block_name='AWS AppSync', component_name='AWS AppSync'), direction='one-way', description='Map services provide data to AppSync.'),\n",
       " Connection(source=ConnInfo(block_name='Amazon EventBridge', component_name='Amazon EventBridge'), target=ConnInfo(block_name='AWS Lambda', component_name='Lambda function'), direction='one-way', description='EventBridge triggers Lambda functions.'),\n",
       " Connection(source=ConnInfo(block_name='AWS Lambda', component_name='Lambda function'), target=ConnInfo(block_name='AWS Pinpoint', component_name=None), direction='one-way', description='Lambda functions send messages to Pinpoint.')]"
      ]
     },
     "execution_count": 14,
     "metadata": {},
     "output_type": "execute_result"
    }
   ],
   "source": [
    "conns.choices[0].message.parsed.connections"
   ]
  },
  {
   "cell_type": "code",
   "execution_count": 16,
   "metadata": {},
   "outputs": [],
   "source": [
    "master_prompt = \"\""
   ]
  },
  {
   "cell_type": "code",
   "execution_count": 17,
   "metadata": {},
   "outputs": [],
   "source": [
    "for block in blocks:\n",
    "    master_prompt += block.model_dump_json(indent=4)\n",
    "    master_prompt += \"\\n\\n\"\n",
    "    for conn in conns.choices[0].message.parsed.connections:\n",
    "        if conn.source.block_name == block.block_name:\n",
    "            master_prompt += conn.model_dump_json(indent=4)\n",
    "            master_prompt += \"\\n\\n\""
   ]
  },
  {
   "cell_type": "code",
   "execution_count": 18,
   "metadata": {},
   "outputs": [
    {
     "name": "stdout",
     "output_type": "stream",
     "text": [
      "{\n",
      "    \"block_name\": \"Amazon Location SDK\",\n",
      "    \"description\": \"SDK integrated with web app for location services.\",\n",
      "    \"components\": [\n",
      "        \"web app\",\n",
      "        \"Amazon Location SDK\"\n",
      "    ],\n",
      "    \"number_in_diagram\": null,\n",
      "    \"position_in_diagram\": \"top-left\"\n",
      "}\n",
      "\n",
      "{\n",
      "    \"source\": {\n",
      "        \"block_name\": \"Amazon Location SDK\",\n",
      "        \"component_name\": \"web app\"\n",
      "    },\n",
      "    \"target\": {\n",
      "        \"block_name\": \"AWS Amplify\",\n",
      "        \"component_name\": \"AWS Amplify\"\n",
      "    },\n",
      "    \"direction\": \"one-way\",\n",
      "    \"description\": \"The web app uses AWS Amplify for deployment and management.\"\n",
      "}\n",
      "\n",
      "{\n",
      "    \"source\": {\n",
      "        \"block_name\": \"Amazon Location SDK\",\n",
      "        \"component_name\": \"Amazon Location SDK\"\n",
      "    },\n",
      "    \"target\": {\n",
      "        \"block_name\": \"web app\",\n",
      "        \"component_name\": \"web app\"\n",
      "    },\n",
      "    \"direction\": \"bidirectional\",\n",
      "    \"description\": \"Integrates location services into the web app.\"\n",
      "}\n",
      "\n",
      "{\n",
      "    \"block_name\": \"AWS Amplify\",\n",
      "    \"description\": \"Used to build and deploy web applications.\",\n",
      "    \"components\": [\n",
      "        \"AWS Amplify\"\n",
      "    ],\n",
      "    \"number_in_diagram\": 1,\n",
      "    \"position_in_diagram\": \"top-center\"\n",
      "}\n",
      "\n",
      "{\n",
      "    \"source\": {\n",
      "        \"block_name\": \"AWS Amplify\",\n",
      "        \"component_name\": \"AWS Amplify\"\n",
      "    },\n",
      "    \"target\": {\n",
      "        \"block_name\": \"AWS AppSync\",\n",
      "        \"component_name\": \"AWS AppSync\"\n",
      "    },\n",
      "    \"direction\": \"one-way\",\n",
      "    \"description\": \"Amplify connects to AppSync for synchronizing data.\"\n",
      "}\n",
      "\n",
      "{\n",
      "    \"block_name\": \"AWS AppSync\",\n",
      "    \"description\": \"Manages and synchronizes data between users via API.\",\n",
      "    \"components\": [\n",
      "        \"AWS AppSync\"\n",
      "    ],\n",
      "    \"number_in_diagram\": 2,\n",
      "    \"position_in_diagram\": \"center\"\n",
      "}\n",
      "\n",
      "{\n",
      "    \"source\": {\n",
      "        \"block_name\": \"AWS AppSync\",\n",
      "        \"component_name\": \"AWS AppSync\"\n",
      "    },\n",
      "    \"target\": {\n",
      "        \"block_name\": \"Amazon DynamoDB\",\n",
      "        \"component_name\": \"Amazon DynamoDB\"\n",
      "    },\n",
      "    \"direction\": \"one-way\",\n",
      "    \"description\": \"AppSync manages data stored in DynamoDB.\"\n",
      "}\n",
      "\n",
      "{\n",
      "    \"source\": {\n",
      "        \"block_name\": \"AWS AppSync\",\n",
      "        \"component_name\": \"AWS AppSync\"\n",
      "    },\n",
      "    \"target\": {\n",
      "        \"block_name\": \"AWS Lambda\",\n",
      "        \"component_name\": \"Lambda function\"\n",
      "    },\n",
      "    \"direction\": \"one-way\",\n",
      "    \"description\": \"AppSync triggers Lambda functions for data processing.\"\n",
      "}\n",
      "\n",
      "{\n",
      "    \"block_name\": \"Amazon DynamoDB\",\n",
      "    \"description\": \"Stores and retrieves application data.\",\n",
      "    \"components\": [\n",
      "        \"Amazon DynamoDB\"\n",
      "    ],\n",
      "    \"number_in_diagram\": 3,\n",
      "    \"position_in_diagram\": \"right-center\"\n",
      "}\n",
      "\n",
      "{\n",
      "    \"block_name\": \"Amazon Location Service\",\n",
      "    \"description\": \"Provides map and tracking services.\",\n",
      "    \"components\": [\n",
      "        \"Track\",\n",
      "        \"Map\",\n",
      "        \"Geofence\",\n",
      "        \"Amazon Location Service\"\n",
      "    ],\n",
      "    \"number_in_diagram\": 4,\n",
      "    \"position_in_diagram\": \"bottom-center\"\n",
      "}\n",
      "\n",
      "{\n",
      "    \"source\": {\n",
      "        \"block_name\": \"Amazon Location Service\",\n",
      "        \"component_name\": \"Track\"\n",
      "    },\n",
      "    \"target\": {\n",
      "        \"block_name\": \"Amazon Location Service\",\n",
      "        \"component_name\": \"Geofence\"\n",
      "    },\n",
      "    \"direction\": \"one-way\",\n",
      "    \"description\": \"Tracking data interacts with geofencing rules.\"\n",
      "}\n",
      "\n",
      "{\n",
      "    \"source\": {\n",
      "        \"block_name\": \"Amazon Location Service\",\n",
      "        \"component_name\": \"Geofence\"\n",
      "    },\n",
      "    \"target\": {\n",
      "        \"block_name\": \"Amazon EventBridge\",\n",
      "        \"component_name\": \"Amazon EventBridge\"\n",
      "    },\n",
      "    \"direction\": \"one-way\",\n",
      "    \"description\": \"Geofence events are sent to EventBridge.\"\n",
      "}\n",
      "\n",
      "{\n",
      "    \"source\": {\n",
      "        \"block_name\": \"Amazon Location Service\",\n",
      "        \"component_name\": \"Map\"\n",
      "    },\n",
      "    \"target\": {\n",
      "        \"block_name\": \"AWS AppSync\",\n",
      "        \"component_name\": \"AWS AppSync\"\n",
      "    },\n",
      "    \"direction\": \"one-way\",\n",
      "    \"description\": \"Map services provide data to AppSync.\"\n",
      "}\n",
      "\n",
      "{\n",
      "    \"block_name\": \"AWS Amplify Mobile\",\n",
      "    \"description\": \"Used for mobile app development and deployment.\",\n",
      "    \"components\": [\n",
      "        \"mobile app\",\n",
      "        \"AWS Amplify\"\n",
      "    ],\n",
      "    \"number_in_diagram\": 5,\n",
      "    \"position_in_diagram\": \"middle-left\"\n",
      "}\n",
      "\n",
      "{\n",
      "    \"source\": {\n",
      "        \"block_name\": \"AWS Amplify Mobile\",\n",
      "        \"component_name\": \"mobile app\"\n",
      "    },\n",
      "    \"target\": {\n",
      "        \"block_name\": \"AWS Amplify\",\n",
      "        \"component_name\": \"AWS Amplify\"\n",
      "    },\n",
      "    \"direction\": \"one-way\",\n",
      "    \"description\": \"Mobile app uses Amplify for deployment.\"\n",
      "}\n",
      "\n",
      "{\n",
      "    \"source\": {\n",
      "        \"block_name\": \"AWS Amplify Mobile\",\n",
      "        \"component_name\": \"Amazon Location SDK\"\n",
      "    },\n",
      "    \"target\": {\n",
      "        \"block_name\": \"mobile app\",\n",
      "        \"component_name\": \"mobile app\"\n",
      "    },\n",
      "    \"direction\": \"bidirectional\",\n",
      "    \"description\": \"Integrates location services into the mobile app.\"\n",
      "}\n",
      "\n",
      "{\n",
      "    \"block_name\": \"Amazon EventBridge\",\n",
      "    \"description\": \"Event bus to stream and monitor events.\",\n",
      "    \"components\": [\n",
      "        \"Amazon EventBridge\"\n",
      "    ],\n",
      "    \"number_in_diagram\": 6,\n",
      "    \"position_in_diagram\": \"bottom-right\"\n",
      "}\n",
      "\n",
      "{\n",
      "    \"source\": {\n",
      "        \"block_name\": \"Amazon EventBridge\",\n",
      "        \"component_name\": \"Amazon EventBridge\"\n",
      "    },\n",
      "    \"target\": {\n",
      "        \"block_name\": \"AWS Lambda\",\n",
      "        \"component_name\": \"Lambda function\"\n",
      "    },\n",
      "    \"direction\": \"one-way\",\n",
      "    \"description\": \"EventBridge triggers Lambda functions.\"\n",
      "}\n",
      "\n",
      "{\n",
      "    \"block_name\": \"AWS Lambda\",\n",
      "    \"description\": \"Processes data and triggers actions.\",\n",
      "    \"components\": [\n",
      "        \"Lambda function\"\n",
      "    ],\n",
      "    \"number_in_diagram\": 7,\n",
      "    \"position_in_diagram\": \"top-right\"\n",
      "}\n",
      "\n",
      "{\n",
      "    \"source\": {\n",
      "        \"block_name\": \"AWS Lambda\",\n",
      "        \"component_name\": \"Lambda function\"\n",
      "    },\n",
      "    \"target\": {\n",
      "        \"block_name\": \"AWS Pinpoint\",\n",
      "        \"component_name\": null\n",
      "    },\n",
      "    \"direction\": \"one-way\",\n",
      "    \"description\": \"Lambda functions send messages to Pinpoint.\"\n",
      "}\n",
      "\n",
      "\n"
     ]
    }
   ],
   "source": [
    "print(master_prompt)"
   ]
  },
  {
   "cell_type": "code",
   "execution_count": null,
   "metadata": {},
   "outputs": [],
   "source": []
  }
 ],
 "metadata": {
  "kernelspec": {
   "display_name": ".venv",
   "language": "python",
   "name": "python3"
  },
  "language_info": {
   "codemirror_mode": {
    "name": "ipython",
    "version": 3
   },
   "file_extension": ".py",
   "mimetype": "text/x-python",
   "name": "python",
   "nbconvert_exporter": "python",
   "pygments_lexer": "ipython3",
   "version": "3.12.7"
  }
 },
 "nbformat": 4,
 "nbformat_minor": 2
}
