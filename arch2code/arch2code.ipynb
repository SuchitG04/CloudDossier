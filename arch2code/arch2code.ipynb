{
 "cells": [
  {
   "cell_type": "code",
   "metadata": {
    "ExecuteTime": {
     "end_time": "2024-10-12T05:48:25.421921Z",
     "start_time": "2024-10-12T05:48:24.989038Z"
    }
   },
   "source": [
    "import os\n",
    "import json\n",
    "import base64\n",
    "\n",
    "from openai import OpenAI\n",
    "from dotenv import load_dotenv\n",
    "from pydantic import BaseModel\n",
    "from prompts import *\n",
    "\n",
    "load_dotenv()"
   ],
   "outputs": [
    {
     "data": {
      "text/plain": [
       "True"
      ]
     },
     "execution_count": 1,
     "metadata": {},
     "output_type": "execute_result"
    }
   ],
   "execution_count": 1
  },
  {
   "cell_type": "code",
   "metadata": {
    "ExecuteTime": {
     "end_time": "2024-10-12T05:48:26.527068Z",
     "start_time": "2024-10-12T05:48:26.524785Z"
    }
   },
   "source": [
    "def encode_image(image_path: str) -> str:\n",
    "  with open(image_path, \"rb\") as image_file:\n",
    "    return base64.b64encode(image_file.read()).decode('utf-8')"
   ],
   "outputs": [],
   "execution_count": 2
  },
  {
   "metadata": {
    "ExecuteTime": {
     "end_time": "2024-10-12T05:48:27.469437Z",
     "start_time": "2024-10-12T05:48:27.450148Z"
    }
   },
   "cell_type": "code",
   "source": [
    "client = OpenAI(\n",
    "    # base_url=\"https://api.together.xyz/v1\",\n",
    "    api_key=os.getenv(\"OPENAI_API_KEY\")\n",
    ")"
   ],
   "outputs": [],
   "execution_count": 3
  },
  {
   "cell_type": "code",
   "metadata": {
    "ExecuteTime": {
     "end_time": "2024-10-12T05:48:28.725989Z",
     "start_time": "2024-10-12T05:48:28.720979Z"
    }
   },
   "source": [
    "class Block(BaseModel):\n",
    "    block_name: str\n",
    "    description: str\n",
    "    components: list[str]\n",
    "    number_in_diagram: int | None\n",
    "    position_in_diagram: str\n",
    "\n",
    "class BlockWrapper(BaseModel):\n",
    "    blocks: list[Block]"
   ],
   "outputs": [],
   "execution_count": 4
  },
  {
   "cell_type": "code",
   "metadata": {
    "ExecuteTime": {
     "end_time": "2024-10-12T05:48:47.079632Z",
     "start_time": "2024-10-12T05:48:40.432875Z"
    }
   },
   "source": [
    "res = client.beta.chat.completions.parse(\n",
    "    model=\"gpt-4o\",\n",
    "    messages=[\n",
    "        {\"role\": \"system\", \"content\": block_system_prompt},\n",
    "        {\"role\": \"user\", \"content\": [\n",
    "            {\n",
    "                \"type\": \"image_url\",\n",
    "                \"image_url\": {\n",
    "                    \"url\": f\"data:image/jpeg;base64,{encode_image('../dgms/athena_forecasting.png')}\"\n",
    "                }\n",
    "            }\n",
    "        ]}\n",
    "    ],\n",
    "    response_format=BlockWrapper,\n",
    ")"
   ],
   "outputs": [],
   "execution_count": 6
  },
  {
   "cell_type": "code",
   "metadata": {
    "ExecuteTime": {
     "end_time": "2024-10-12T05:50:14.945084Z",
     "start_time": "2024-10-12T05:50:14.938230Z"
    }
   },
   "source": [
    "json.loads(res.choices[0].message.content)[\"blocks\"]"
   ],
   "outputs": [
    {
     "data": {
      "text/plain": [
       "[{'block_name': 'IoT Data Source',\n",
       "  'description': 'Raw data collection from scooters.',\n",
       "  'components': ['IoT data from scooters'],\n",
       "  'number_in_diagram': None,\n",
       "  'position_in_diagram': 'Far left'},\n",
       " {'block_name': 'Storage',\n",
       "  'description': 'Data is stored for further processing and retrieval.',\n",
       "  'components': ['DynamoDB'],\n",
       "  'number_in_diagram': None,\n",
       "  'position_in_diagram': 'Left, next to IoT data'},\n",
       " {'block_name': 'Processing',\n",
       "  'description': 'Executes backend processes and manipulations on data.',\n",
       "  'components': ['Lambda function'],\n",
       "  'number_in_diagram': None,\n",
       "  'position_in_diagram': 'Middle, next to DynamoDB'},\n",
       " {'block_name': 'Analysis',\n",
       "  'description': 'Performs interactive queries on data.',\n",
       "  'components': ['Athena'],\n",
       "  'number_in_diagram': None,\n",
       "  'position_in_diagram': 'Middle, next to Lambda function'},\n",
       " {'block_name': 'Data Storage',\n",
       "  'description': 'Stores data for analysis and machine learning.',\n",
       "  'components': ['Amazon S3'],\n",
       "  'number_in_diagram': None,\n",
       "  'position_in_diagram': 'Top right'},\n",
       " {'block_name': 'Machine Learning',\n",
       "  'description': 'Builds and deploys machine learning models.',\n",
       "  'components': ['SageMaker'],\n",
       "  'number_in_diagram': None,\n",
       "  'position_in_diagram': 'Top right, next to S3'},\n",
       " {'block_name': 'Visualization',\n",
       "  'description': 'Provides visualizations and business insights.',\n",
       "  'components': ['QuickSight'],\n",
       "  'number_in_diagram': None,\n",
       "  'position_in_diagram': 'Right, next to Athena'},\n",
       " {'block_name': 'User Interface',\n",
       "  'description': 'End user interaction point for data insights.',\n",
       "  'components': ['User'],\n",
       "  'number_in_diagram': None,\n",
       "  'position_in_diagram': 'Far right, below QuickSight'}]"
      ]
     },
     "execution_count": 7,
     "metadata": {},
     "output_type": "execute_result"
    }
   ],
   "execution_count": 7
  },
  {
   "cell_type": "code",
   "metadata": {
    "ExecuteTime": {
     "end_time": "2024-10-12T05:50:20.364988Z",
     "start_time": "2024-10-12T05:50:20.361724Z"
    }
   },
   "source": [
    "blocks = res.choices[0].message.parsed.blocks"
   ],
   "outputs": [],
   "execution_count": 8
  },
  {
   "cell_type": "code",
   "metadata": {
    "ExecuteTime": {
     "end_time": "2024-10-12T05:50:53.334892Z",
     "start_time": "2024-10-12T05:50:53.332379Z"
    }
   },
   "source": [
    "print(blocks[0].model_dump_json(indent=4))"
   ],
   "outputs": [
    {
     "name": "stdout",
     "output_type": "stream",
     "text": [
      "{\n",
      "    \"block_name\": \"IoT Data Source\",\n",
      "    \"description\": \"Raw data collection from scooters.\",\n",
      "    \"components\": [\n",
      "        \"IoT data from scooters\"\n",
      "    ],\n",
      "    \"number_in_diagram\": null,\n",
      "    \"position_in_diagram\": \"Far left\"\n",
      "}\n"
     ]
    }
   ],
   "execution_count": 13
  },
  {
   "cell_type": "code",
   "metadata": {
    "ExecuteTime": {
     "end_time": "2024-10-12T05:50:54.471604Z",
     "start_time": "2024-10-12T05:50:54.465254Z"
    }
   },
   "source": [
    "class ConnInfo(BaseModel):\n",
    "    block_name: str | None\n",
    "    component_name: str | None\n",
    "\n",
    "class Connection(BaseModel):\n",
    "    source: ConnInfo | None\n",
    "    target: ConnInfo | None\n",
    "    direction: str | None\n",
    "    description: str | None\n",
    "\n",
    "class ConnectionWrapper(BaseModel):\n",
    "    connections: list[Connection]"
   ],
   "outputs": [],
   "execution_count": 14
  },
  {
   "cell_type": "code",
   "metadata": {
    "ExecuteTime": {
     "end_time": "2024-10-12T05:50:55.315944Z",
     "start_time": "2024-10-12T05:50:55.310992Z"
    }
   },
   "source": [
    "print(blocks[0].model_dump_json(indent=4))\n"
   ],
   "outputs": [
    {
     "name": "stdout",
     "output_type": "stream",
     "text": [
      "{\n",
      "    \"block_name\": \"IoT Data Source\",\n",
      "    \"description\": \"Raw data collection from scooters.\",\n",
      "    \"components\": [\n",
      "        \"IoT data from scooters\"\n",
      "    ],\n",
      "    \"number_in_diagram\": null,\n",
      "    \"position_in_diagram\": \"Far left\"\n",
      "}\n"
     ]
    }
   ],
   "execution_count": 15
  },
  {
   "cell_type": "code",
   "metadata": {
    "ExecuteTime": {
     "end_time": "2024-10-12T05:50:56.830195Z",
     "start_time": "2024-10-12T05:50:56.827528Z"
    }
   },
   "source": [
    "blocks_str = \"\\n\".join(b.model_dump_json(indent=4) for b in blocks)"
   ],
   "outputs": [],
   "execution_count": 16
  },
  {
   "cell_type": "code",
   "metadata": {
    "ExecuteTime": {
     "end_time": "2024-10-12T05:51:04.085404Z",
     "start_time": "2024-10-12T05:50:58.417841Z"
    }
   },
   "source": [
    "conns = client.beta.chat.completions.parse(\n",
    "    model=\"gpt-4o\",\n",
    "    messages=[\n",
    "        {\"role\": \"system\", \"content\": connection_system_prompt.format(blocks_info=blocks_str)},\n",
    "        {\n",
    "            \"role\": \"user\", \"content\": [\n",
    "                {\n",
    "                    \"type\": \"image_url\",\n",
    "                    \"image_url\": {\n",
    "                        \"url\": f\"data:image/jpeg;base64,{encode_image('../dgms/athena_forecasting.png')}\"\n",
    "                    }\n",
    "                }\n",
    "            ]\n",
    "        }\n",
    "    ],\n",
    "    response_format=ConnectionWrapper,\n",
    ")"
   ],
   "outputs": [],
   "execution_count": 17
  },
  {
   "cell_type": "code",
   "metadata": {
    "ExecuteTime": {
     "end_time": "2024-10-12T05:51:11.047151Z",
     "start_time": "2024-10-12T05:51:11.042928Z"
    }
   },
   "source": "print(conns.choices[0].message.parsed.connections[0].model_dump_json(indent=4))",
   "outputs": [
    {
     "name": "stdout",
     "output_type": "stream",
     "text": [
      "{\n",
      "    \"source\": {\n",
      "        \"block_name\": \"IoT Data Source\",\n",
      "        \"component_name\": \"IoT data from scooters\"\n",
      "    },\n",
      "    \"target\": {\n",
      "        \"block_name\": \"Storage\",\n",
      "        \"component_name\": \"DynamoDB\"\n",
      "    },\n",
      "    \"direction\": \"one-way\",\n",
      "    \"description\": \"Data received from scooters is stored in DynamoDB.\"\n",
      "}\n"
     ]
    }
   ],
   "execution_count": 18
  },
  {
   "cell_type": "code",
   "metadata": {
    "ExecuteTime": {
     "end_time": "2024-10-12T05:51:12.146336Z",
     "start_time": "2024-10-12T05:51:12.143451Z"
    }
   },
   "source": [
    "conns.choices[0].message.parsed.connections"
   ],
   "outputs": [
    {
     "data": {
      "text/plain": [
       "[Connection(source=ConnInfo(block_name='IoT Data Source', component_name='IoT data from scooters'), target=ConnInfo(block_name='Storage', component_name='DynamoDB'), direction='one-way', description='Data received from scooters is stored in DynamoDB.'),\n",
       " Connection(source=ConnInfo(block_name='Storage', component_name='DynamoDB'), target=ConnInfo(block_name='Processing', component_name='Lambda function'), direction='one-way', description='Lambda function processes data stored in DynamoDB.'),\n",
       " Connection(source=ConnInfo(block_name='Processing', component_name='Lambda function'), target=ConnInfo(block_name='Analysis', component_name='Athena'), direction='one-way', description='Processed data is queried using Athena.'),\n",
       " Connection(source=ConnInfo(block_name='Data Storage', component_name='Amazon S3'), target=ConnInfo(block_name='Analysis', component_name='Athena'), direction='one-way', description='Athena accesses data stored in Amazon S3 for query processing.'),\n",
       " Connection(source=ConnInfo(block_name='Machine Learning', component_name='SageMaker'), target=ConnInfo(block_name='Data Storage', component_name='Amazon S3'), direction='one-way', description='SageMaker saves models or data to Amazon S3.'),\n",
       " Connection(source=ConnInfo(block_name='Machine Learning', component_name='SageMaker'), target=ConnInfo(block_name='Analysis', component_name='Athena'), direction='one-way', description='Athena can access data processed by SageMaker for analysis.'),\n",
       " Connection(source=ConnInfo(block_name='Analysis', component_name='Athena'), target=ConnInfo(block_name='Visualization', component_name='QuickSight'), direction='one-way', description='Analysis results from Athena are visualized using QuickSight.'),\n",
       " Connection(source=ConnInfo(block_name='Visualization', component_name='QuickSight'), target=ConnInfo(block_name='User Interface', component_name='User'), direction='one-way', description='QuickSight provides visual insights to the user.')]"
      ]
     },
     "execution_count": 19,
     "metadata": {},
     "output_type": "execute_result"
    }
   ],
   "execution_count": 19
  },
  {
   "cell_type": "code",
   "metadata": {
    "ExecuteTime": {
     "end_time": "2024-10-12T05:51:13.792677Z",
     "start_time": "2024-10-12T05:51:13.788847Z"
    }
   },
   "source": [
    "master_prompt = \"\""
   ],
   "outputs": [],
   "execution_count": 20
  },
  {
   "cell_type": "code",
   "metadata": {
    "ExecuteTime": {
     "end_time": "2024-10-12T05:51:14.194113Z",
     "start_time": "2024-10-12T05:51:14.191137Z"
    }
   },
   "source": [
    "for block in blocks:\n",
    "    master_prompt += block.model_dump_json(indent=4)\n",
    "    master_prompt += \"\\n\\n\"\n",
    "    for conn in conns.choices[0].message.parsed.connections:\n",
    "        if conn.source.block_name == block.block_name:\n",
    "            master_prompt += conn.model_dump_json(indent=4)\n",
    "            master_prompt += \"\\n\\n\""
   ],
   "outputs": [],
   "execution_count": 21
  },
  {
   "cell_type": "code",
   "metadata": {
    "ExecuteTime": {
     "end_time": "2024-10-12T05:51:14.873513Z",
     "start_time": "2024-10-12T05:51:14.870940Z"
    }
   },
   "source": [
    "print(master_prompt)"
   ],
   "outputs": [
    {
     "name": "stdout",
     "output_type": "stream",
     "text": [
      "{\n",
      "    \"block_name\": \"IoT Data Source\",\n",
      "    \"description\": \"Raw data collection from scooters.\",\n",
      "    \"components\": [\n",
      "        \"IoT data from scooters\"\n",
      "    ],\n",
      "    \"number_in_diagram\": null,\n",
      "    \"position_in_diagram\": \"Far left\"\n",
      "}\n",
      "\n",
      "{\n",
      "    \"source\": {\n",
      "        \"block_name\": \"IoT Data Source\",\n",
      "        \"component_name\": \"IoT data from scooters\"\n",
      "    },\n",
      "    \"target\": {\n",
      "        \"block_name\": \"Storage\",\n",
      "        \"component_name\": \"DynamoDB\"\n",
      "    },\n",
      "    \"direction\": \"one-way\",\n",
      "    \"description\": \"Data received from scooters is stored in DynamoDB.\"\n",
      "}\n",
      "\n",
      "{\n",
      "    \"block_name\": \"Storage\",\n",
      "    \"description\": \"Data is stored for further processing and retrieval.\",\n",
      "    \"components\": [\n",
      "        \"DynamoDB\"\n",
      "    ],\n",
      "    \"number_in_diagram\": null,\n",
      "    \"position_in_diagram\": \"Left, next to IoT data\"\n",
      "}\n",
      "\n",
      "{\n",
      "    \"source\": {\n",
      "        \"block_name\": \"Storage\",\n",
      "        \"component_name\": \"DynamoDB\"\n",
      "    },\n",
      "    \"target\": {\n",
      "        \"block_name\": \"Processing\",\n",
      "        \"component_name\": \"Lambda function\"\n",
      "    },\n",
      "    \"direction\": \"one-way\",\n",
      "    \"description\": \"Lambda function processes data stored in DynamoDB.\"\n",
      "}\n",
      "\n",
      "{\n",
      "    \"block_name\": \"Processing\",\n",
      "    \"description\": \"Executes backend processes and manipulations on data.\",\n",
      "    \"components\": [\n",
      "        \"Lambda function\"\n",
      "    ],\n",
      "    \"number_in_diagram\": null,\n",
      "    \"position_in_diagram\": \"Middle, next to DynamoDB\"\n",
      "}\n",
      "\n",
      "{\n",
      "    \"source\": {\n",
      "        \"block_name\": \"Processing\",\n",
      "        \"component_name\": \"Lambda function\"\n",
      "    },\n",
      "    \"target\": {\n",
      "        \"block_name\": \"Analysis\",\n",
      "        \"component_name\": \"Athena\"\n",
      "    },\n",
      "    \"direction\": \"one-way\",\n",
      "    \"description\": \"Processed data is queried using Athena.\"\n",
      "}\n",
      "\n",
      "{\n",
      "    \"block_name\": \"Analysis\",\n",
      "    \"description\": \"Performs interactive queries on data.\",\n",
      "    \"components\": [\n",
      "        \"Athena\"\n",
      "    ],\n",
      "    \"number_in_diagram\": null,\n",
      "    \"position_in_diagram\": \"Middle, next to Lambda function\"\n",
      "}\n",
      "\n",
      "{\n",
      "    \"source\": {\n",
      "        \"block_name\": \"Analysis\",\n",
      "        \"component_name\": \"Athena\"\n",
      "    },\n",
      "    \"target\": {\n",
      "        \"block_name\": \"Visualization\",\n",
      "        \"component_name\": \"QuickSight\"\n",
      "    },\n",
      "    \"direction\": \"one-way\",\n",
      "    \"description\": \"Analysis results from Athena are visualized using QuickSight.\"\n",
      "}\n",
      "\n",
      "{\n",
      "    \"block_name\": \"Data Storage\",\n",
      "    \"description\": \"Stores data for analysis and machine learning.\",\n",
      "    \"components\": [\n",
      "        \"Amazon S3\"\n",
      "    ],\n",
      "    \"number_in_diagram\": null,\n",
      "    \"position_in_diagram\": \"Top right\"\n",
      "}\n",
      "\n",
      "{\n",
      "    \"source\": {\n",
      "        \"block_name\": \"Data Storage\",\n",
      "        \"component_name\": \"Amazon S3\"\n",
      "    },\n",
      "    \"target\": {\n",
      "        \"block_name\": \"Analysis\",\n",
      "        \"component_name\": \"Athena\"\n",
      "    },\n",
      "    \"direction\": \"one-way\",\n",
      "    \"description\": \"Athena accesses data stored in Amazon S3 for query processing.\"\n",
      "}\n",
      "\n",
      "{\n",
      "    \"block_name\": \"Machine Learning\",\n",
      "    \"description\": \"Builds and deploys machine learning models.\",\n",
      "    \"components\": [\n",
      "        \"SageMaker\"\n",
      "    ],\n",
      "    \"number_in_diagram\": null,\n",
      "    \"position_in_diagram\": \"Top right, next to S3\"\n",
      "}\n",
      "\n",
      "{\n",
      "    \"source\": {\n",
      "        \"block_name\": \"Machine Learning\",\n",
      "        \"component_name\": \"SageMaker\"\n",
      "    },\n",
      "    \"target\": {\n",
      "        \"block_name\": \"Data Storage\",\n",
      "        \"component_name\": \"Amazon S3\"\n",
      "    },\n",
      "    \"direction\": \"one-way\",\n",
      "    \"description\": \"SageMaker saves models or data to Amazon S3.\"\n",
      "}\n",
      "\n",
      "{\n",
      "    \"source\": {\n",
      "        \"block_name\": \"Machine Learning\",\n",
      "        \"component_name\": \"SageMaker\"\n",
      "    },\n",
      "    \"target\": {\n",
      "        \"block_name\": \"Analysis\",\n",
      "        \"component_name\": \"Athena\"\n",
      "    },\n",
      "    \"direction\": \"one-way\",\n",
      "    \"description\": \"Athena can access data processed by SageMaker for analysis.\"\n",
      "}\n",
      "\n",
      "{\n",
      "    \"block_name\": \"Visualization\",\n",
      "    \"description\": \"Provides visualizations and business insights.\",\n",
      "    \"components\": [\n",
      "        \"QuickSight\"\n",
      "    ],\n",
      "    \"number_in_diagram\": null,\n",
      "    \"position_in_diagram\": \"Right, next to Athena\"\n",
      "}\n",
      "\n",
      "{\n",
      "    \"source\": {\n",
      "        \"block_name\": \"Visualization\",\n",
      "        \"component_name\": \"QuickSight\"\n",
      "    },\n",
      "    \"target\": {\n",
      "        \"block_name\": \"User Interface\",\n",
      "        \"component_name\": \"User\"\n",
      "    },\n",
      "    \"direction\": \"one-way\",\n",
      "    \"description\": \"QuickSight provides visual insights to the user.\"\n",
      "}\n",
      "\n",
      "{\n",
      "    \"block_name\": \"User Interface\",\n",
      "    \"description\": \"End user interaction point for data insights.\",\n",
      "    \"components\": [\n",
      "        \"User\"\n",
      "    ],\n",
      "    \"number_in_diagram\": null,\n",
      "    \"position_in_diagram\": \"Far right, below QuickSight\"\n",
      "}\n",
      "\n",
      "\n"
     ]
    }
   ],
   "execution_count": 22
  },
  {
   "cell_type": "code",
   "execution_count": null,
   "metadata": {},
   "outputs": [],
   "source": []
  }
 ],
 "metadata": {
  "kernelspec": {
   "display_name": ".venv",
   "language": "python",
   "name": "python3"
  },
  "language_info": {
   "codemirror_mode": {
    "name": "ipython",
    "version": 3
   },
   "file_extension": ".py",
   "mimetype": "text/x-python",
   "name": "python",
   "nbconvert_exporter": "python",
   "pygments_lexer": "ipython3",
   "version": "3.12.7"
  }
 },
 "nbformat": 4,
 "nbformat_minor": 2
}
